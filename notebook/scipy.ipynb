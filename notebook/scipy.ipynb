{
 "metadata": {
  "name": "",
  "signature": "sha256:11fb57d73ee9633759b2cd4d567459c4d78306674d6af0388addeccf2d423589"
 },
 "nbformat": 3,
 "nbformat_minor": 0,
 "worksheets": [
  {
   "cells": [
    {
     "cell_type": "code",
     "collapsed": false,
     "input": [
      "import numpy as np\n",
      "import matplotlib as mpl\n",
      "import matplotlib.pyplot as plt\n",
      "from scipy.stats import bernoulli\n",
      "\n",
      "help(bernoulli)\n",
      "np.info(bernoulli)\n"
     ],
     "language": "python",
     "metadata": {},
     "outputs": []
    },
    {
     "cell_type": "code",
     "collapsed": false,
     "input": [
      "p = np.poly1d([3,4,5])\n",
      "print p\n",
      "print p.integ(k=6)\n",
      "print p.deriv()\n",
      "print p([4,5])"
     ],
     "language": "python",
     "metadata": {},
     "outputs": [
      {
       "output_type": "stream",
       "stream": "stdout",
       "text": [
        "   2\n",
        "3 x + 4 x + 5\n",
        "   3     2\n",
        "1 x + 2 x + 5 x + 6\n",
        " \n",
        "6 x + 4\n",
        "[ 69 100]\n"
       ]
      }
     ],
     "prompt_number": 10
    }
   ],
   "metadata": {}
  }
 ]
}