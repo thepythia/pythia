{
 "worksheets": [
  {
   "cells": [
    {
     "cell_type": "markdown",
     "metadata": {},
     "source": [
      "Bernoulli Distribution:\n",
      "\n",
      "$$\n",
      "\\begin{align}\n",
      "Bernoulli \\hspace{0.2cm} distribution: && Bern( x | \\mu) = \\mu^x(1-\\mu)^{1-x} \\\\\n",
      "\\\\\n",
      "Mean: && E[x] = \\mu \\\\\n",
      "\\\\\n",
      "Variance: && var[x] = \\mu(1-\\mu)  \\\\\n",
      "\\\\\n",
      "maximum \\hspace{0.2cm} likelihood \\hspace{0.2cm} estimator: && \\mu_{ML}=\\frac{1}{N}\\sum_{n=1}^{N}x_n  \\\\\n",
      "\\end{align}\n",
      "$$\n",
      "\n",
      "Binomial Distribution:\n",
      "\n",
      "$$\n",
      "\\begin{align}\n",
      "Binomial \\hspace{0.2cm} distribution: && Bin(m|N,\\mu) = \\binom{N}{m}\\mu^m(1-\\mu)^{N-m} \\\\\n",
      "combination: && \\binom{N}{m} \\equiv \\frac{N!}{(N-m)!m!} \\\\\n",
      "Mean: && E[m] \\equiv \\sum_{m=0}^NmBin(m|N,\\mu) = N\\mu \\\\\n",
      "Variance: && var[m] \\equiv \\sum_{m=0}^N(m-E[m])^2Bin(m|N,\\mu) = N\\mu(1-\\mu)  \\\\\n",
      "\\end{align}\n",
      "$$\n",
      "\n"
     ]
    },
    {
     "cell_type": "code",
     "execution_count": null,
     "metadata": {},
     "outputs": [
      {
       "output_type": "stream",
       "stream": "stdout",
       "text": [
        " ppf(q, *args, **kwds)\n\nPercent point function (inverse of cdf) at q of the given RV\n\nParameters\n----------\nq : array_like\n    Lower tail probability.\narg1, arg2, arg3,... : array_like\n    The shape parameter(s) for the distribution (see docstring of the\n    instance object for more information).\nloc : array_like, optional\n    Location parameter (default=0).\nscale : array_like, optional\n    Scale parameter (default=1).\n\nReturns\n-------\nk : array_like\n    Quantile corresponding to the lower tail probability, q.\n"
       ]
      },
      {
       "output_type": "pyout",
       "prompt_number": 2,
       "text": [
        "<matplotlib.collections.LineCollection at 0x1077c4f90>"
       ],
       "metadata": {}
      },
      {
       "output_type": "display_data",
       "png": "[encoded data removed]",
       "text": [
        "<matplotlib.figure.Figure at 0x1075adad0>"
       ],
       "metadata": {}
      }
     ],
     "input": [
      "from scipy.stats import bernoulli\n",
      "import numpy as np\n",
      "import matplotlib.pyplot as plt\n",
      "%matplotlib inline\n",
      "fig, ax = plt.subplots(1, 1)\n",
      "\n",
      "p = 0.3\n",
      "np.info(bernoulli.ppf)\n",
      "mean, var, skew, kurt = bernoulli.stats(p, moments='mvsk')\n",
      "x = np.arange(bernoulli.ppf(0.01, p), bernoulli.ppf(0.99, p))\n",
      "ax.plot(x, bernoulli.pmf(x, p), 'bo', ms=8, label='bernoulli pmf')\n",
      "ax.vlines(x, 0, bernoulli.pmf(x, p), colors='b', lw=5, alpha=0.5)"
     ],
     "language": "python",
     "prompt_number": 2
    },
    {
     "cell_type": "code",
     "execution_count": null,
     "metadata": {},
     "outputs": [
      {
       "output_type": "pyout",
       "prompt_number": 3,
       "text": [
        "<matplotlib.collections.LineCollection at 0x107c2a250>"
       ],
       "metadata": {}
      },
      {
       "output_type": "display_data",
       "png": "[encoded data removed]",
       "text": [
        "<matplotlib.figure.Figure at 0x107c2a1d0>"
       ],
       "metadata": {}
      }
     ],
     "input": [
      "from scipy.stats import binom\n",
      "import matplotlib.pyplot as plt\n",
      "import numpy as np\n",
      "%matplotlib inline\n",
      "fig, ax = plt.subplots(1, 1)\n",
      "n, p = 5, 0.4\n",
      "mean, var, skew, kurt = binom.stats(n, p, moments='mvsk')\n",
      "x = np.arange(binom.ppf(0.01, n, p),\n",
      "              binom.ppf(0.99, n, p))\n",
      "ax.plot(x, binom.pmf(x, n, p), 'bo', ms=8, label='binom pmf')\n",
      "ax.vlines(x, 0, binom.pmf(x, n, p), colors='b', lw=5, alpha=0.5)"
     ],
     "language": "python",
     "prompt_number": 3
    }
   ]
  }
 ],
 "cells": [],
 "metadata": {
  "name": "",
  "signature": "sha256:b8f1aa7022a2593847048890f7067121768346d08e0ebbef568ceaac518fcd14"
 },
 "nbformat": 3,
 "nbformat_minor": 0
}