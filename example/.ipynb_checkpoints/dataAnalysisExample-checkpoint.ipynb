{
 "metadata": {
  "name": "",
  "signature": "sha256:0b4b134eb016da49dd85ef77706c3ed8a41f52b7a86d8284bb44adb3309c9415"
 },
 "nbformat": 3,
 "nbformat_minor": 0,
 "worksheets": []
}