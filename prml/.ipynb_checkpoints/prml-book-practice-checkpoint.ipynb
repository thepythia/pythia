{
 "metadata": {
  "name": "",
  "signature": "sha256:c8e37733cb233459c2fc81a070719c00e6774643434d08c8838413516022e97f"
 },
 "nbformat": 3,
 "nbformat_minor": 0,
 "worksheets": [
  {
   "cells": [
    {
     "cell_type": "markdown",
     "metadata": {},
     "source": [
      "Plot a gaussian distribution plot"
     ]
    },
    {
     "cell_type": "code",
     "collapsed": false,
     "input": [
      "import matplotlib.pyplot as plt\n",
      "import numpy as np\n",
      "import matplotlib.mlab as mlab\n",
      "import math\n",
      "\n",
      "%matplotlib inline \n",
      "\n",
      "mean = 0\n",
      "variance = 1\n",
      "sigma = math.sqrt(variance)\n",
      "x = np.linspace(-3, 3, 100)\n",
      "plt.plot(x, mlab.normpdf(x, mean, sigma))\n",
      "plt.show()\n",
      "print 'hello'\n"
     ],
     "language": "python",
     "metadata": {},
     "outputs": []
    },
    {
     "cell_type": "code",
     "collapsed": false,
     "input": [],
     "language": "python",
     "metadata": {},
     "outputs": []
    }
   ],
   "metadata": {}
  }
 ]
}