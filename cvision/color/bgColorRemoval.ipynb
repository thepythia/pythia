{
 "metadata": {
  "name": "",
  "signature": "sha256:3dab668c3f71685c821511bee9e3c3af476f1b0b4e3caf073c2e8b9cac8943ca"
 },
 "nbformat": 3,
 "nbformat_minor": 0,
 "worksheets": [
  {
   "cells": [
    {
     "cell_type": "markdown",
     "metadata": {},
     "source": [
      "**Background Removal Process**\n",
      "\n"
     ]
    },
    {
     "cell_type": "code",
     "collapsed": false,
     "input": [
      "import pgmagick as pg"
     ],
     "language": "python",
     "metadata": {},
     "outputs": [
      {
       "ename": "ImportError",
       "evalue": "dlopen(/Users/phoenix/programs/anaconda/lib/python2.7/site-packages/pgmagick/_pgmagick.so, 2): Symbol not found: __ZN6Magick22DrawableCompositeImage6magickESs\n  Referenced from: /Users/phoenix/programs/anaconda/lib/python2.7/site-packages/pgmagick/_pgmagick.so\n  Expected in: dynamic lookup\n",
       "output_type": "pyerr",
       "traceback": [
        "\u001b[0;31m---------------------------------------------------------------------------\u001b[0m\n\u001b[0;31mImportError\u001b[0m                               Traceback (most recent call last)",
        "\u001b[0;32m<ipython-input-6-4a3958836489>\u001b[0m in \u001b[0;36m<module>\u001b[0;34m()\u001b[0m\n\u001b[0;32m----> 1\u001b[0;31m \u001b[0;32mimport\u001b[0m \u001b[0mpgmagick\u001b[0m \u001b[0;32mas\u001b[0m \u001b[0mpg\u001b[0m\u001b[0;34m\u001b[0m\u001b[0m\n\u001b[0m",
        "\u001b[0;32m/Users/phoenix/programs/anaconda/lib/python2.7/site-packages/pgmagick/__init__.py\u001b[0m in \u001b[0;36m<module>\u001b[0;34m()\u001b[0m\n\u001b[0;32m----> 1\u001b[0;31m \u001b[0;32mfrom\u001b[0m \u001b[0mpgmagick\u001b[0m \u001b[0;32mimport\u001b[0m \u001b[0m_pgmagick\u001b[0m\u001b[0;34m\u001b[0m\u001b[0m\n\u001b[0m\u001b[1;32m      2\u001b[0m \u001b[0;34m\u001b[0m\u001b[0m\n\u001b[1;32m      3\u001b[0m \u001b[0;34m\u001b[0m\u001b[0m\n\u001b[1;32m      4\u001b[0m \u001b[0;32mdef\u001b[0m \u001b[0m__init\u001b[0m\u001b[0;34m(\u001b[0m\u001b[0;34m)\u001b[0m\u001b[0;34m:\u001b[0m\u001b[0;34m\u001b[0m\u001b[0m\n\u001b[1;32m      5\u001b[0m     \u001b[0m_pgmagick\u001b[0m\u001b[0;34m.\u001b[0m\u001b[0mInitializeMagick\u001b[0m\u001b[0;34m(\u001b[0m\u001b[0;34m\"./\"\u001b[0m\u001b[0;34m)\u001b[0m\u001b[0;34m\u001b[0m\u001b[0m\n",
        "\u001b[0;31mImportError\u001b[0m: dlopen(/Users/phoenix/programs/anaconda/lib/python2.7/site-packages/pgmagick/_pgmagick.so, 2): Symbol not found: __ZN6Magick22DrawableCompositeImage6magickESs\n  Referenced from: /Users/phoenix/programs/anaconda/lib/python2.7/site-packages/pgmagick/_pgmagick.so\n  Expected in: dynamic lookup\n"
       ]
      }
     ],
     "prompt_number": 6
    },
    {
     "cell_type": "code",
     "collapsed": false,
     "input": [],
     "language": "python",
     "metadata": {},
     "outputs": []
    }
   ],
   "metadata": {}
  }
 ]
}