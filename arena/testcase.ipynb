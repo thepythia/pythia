{
 "worksheets": [
  {
   "cells": [
    {
     "cell_type": "code",
     "metadata": {},
     "outputs": [
      {
       "output_type": "stream",
       "stream": "stdout",
       "text": [
        "0   1999-07-17\n",
        "1   2008-02-14\n",
        "2   2013-03-09\n",
        "Name: Open Date, dtype: datetime64[ns]\n",
        "2015-04-01 00:00:00\n",
        "0    5737\n",
        "1    2603\n",
        "2     753\n",
        "Name: days, dtype: float64\n",
        "Index([u'Id', u'days', u'P1', u'P2', u'P3', u'P4', u'P5', u'P6', u'P7', u'P8', u'P9', u'P10', u'P11', u'P12', u'P13', u'P14', u'P15', u'P16', u'P17', u'P18', u'P19', u'P20', u'P21', u'P22', u'P23', u'P24', u'P25', u'P26', u'P27', u'P28', u'P29', u'P30', u'P31', u'P32', u'P33', u'P34', u'P35', u'P36', u'P37', u'revenue'], dtype='object')\n"
       ]
      }
     ],
     "input": [
      "import pandas as pd\n",
      "import numpy as np\n",
      "from datetime import datetime\n",
      "\n",
      "path = \"/Users/phoenix/workspace/kaggle/RestaurantRevenuePrediction/train.csv\"\n",
      "train_data = pd.read_csv(path)\n",
      "train_data.columns\n",
      "\n",
      "print pd.to_datetime(train_data['Open Date'][:3])\n",
      "train_data['Open Date'] = pd.to_datetime(train_data['Open Date'])\n",
      "today = datetime(2015, 4, 1)\n",
      "print today\n",
      "train_data.insert(1, 'days', (today - train_data['Open Date'])/ np.timedelta64(1, 'D'))\n",
      "print train_data['days'][:3]\n",
      "#print train_data['days'][:3]/ np.timedelta64(1, 'D')\n",
      "train_data = train_data.drop(['City', 'City Group', 'Type', 'Open Date'], axis=1)\n",
      "print train_data.columns\n",
      "#train_data.astype(float)\n",
      "\n",
      "train_data.fillna(0, inplace=True)\n",
      "\n",
      "def preprocess(data):\n",
      "    today = datetime(2015, 4, 1)\n",
      "    data['Open Date'] = pd.to_datetime(data['Open Date'])\n",
      "    data.insert(1, 'days', (today - data['Open Date']) / np.timedelta64(1, 'D'))\n",
      "    data = data.drop(['City', 'City Group', 'Type', 'Open Date'], axis = 1)\n",
      "    data.fillna(0, inplace=True)\n",
      "    return data"
     ],
     "language": "python",
     "prompt_number": 87
    },
    {
     "cell_type": "code",
     "metadata": {},
     "outputs": [
      {
       "output_type": "stream",
       "stream": "stdout",
       "text": [
        "(137, 38)\n"
       ]
      },
      {
       "output_type": "pyout",
       "prompt_number": 102,
       "text": [
        "SVR(C=1.0, cache_size=2000, coef0=0.0, degree=3, epsilon=0.1, gamma=0.1,\n",
        "  kernel='rbf', max_iter=-1, probability=False, random_state=None,\n",
        "  shrinking=True, tol=0.001, verbose=False)"
       ],
       "metadata": {}
      }
     ],
     "input": [
      "from sklearn import svm\n",
      "\n",
      "x = train_data.iloc[:,1:-1]\n",
      "print x.shape\n",
      "y = train_data['revenue'].astype(float).values.tolist()\n",
      "clf = svm.SVR(kernel='rbf', C=1.0, gamma=0.1, cache_size=2000)\n",
      "clf.fit(x, y)"
     ],
     "language": "python",
     "prompt_number": 102
    },
    {
     "cell_type": "code",
     "metadata": {},
     "outputs": [
      {
       "output_type": "stream",
       "stream": "stdout",
       "text": [
        "(100000, 2) Int64Index([0, 1], dtype='int64')\n"
       ]
      }
     ],
     "input": [
      "test_path = \"/Users/phoenix/workspace/kaggle/RestaurantRevenuePrediction/test.csv\"\n",
      "test_data = pd.read_csv(test_path)\n",
      "test_data.columns\n",
      "test_data = preprocess(test_data)\n",
      "t_x = test_data.iloc[:, 1:]\n",
      "t_y = clf.predict(t_x)\n",
      "output = pd.concat([test_data.iloc[:,0], pd.DataFrame(t_y)], axis=1, ignore_index=True)\n",
      "print output.shape, output.columns\n",
      "output.to_csv(\"/Users/phoenix/workspace/kaggle/RestaurantRevenuePrediction/testSubmission.csv\", index=False, header=['Id','Prediction'])"
     ],
     "language": "python",
     "prompt_number": 128
    },
    {
     "cell_type": "code",
     "metadata": {},
     "outputs": [
      {
       "output_type": "stream",
       "stream": "stdout",
       "text": [
        "          0         1\n",
        "0 -0.620622 -1.166033\n",
        "1  2.377944  0.196994\n",
        "2 -1.265943  0.756220\n",
        "3 -1.228037 -1.669683\n",
        "          0\n",
        "0 -0.357141\n",
        "1  0.272956\n",
        "2  0.269463\n",
        "3  1.305999\n",
        "          0         1         2\n",
        "0 -0.620622 -1.166033 -0.357141\n",
        "1  2.377944  0.196994  0.272956\n",
        "2 -1.265943  0.756220  0.269463\n",
        "3 -1.228037 -1.669683  1.305999\n"
       ]
      }
     ],
     "input": [
      "df1 = pd.DataFrame(np.random.randn(4,2))\n",
      "df2 = pd.DataFrame(np.random.randn(4,1))\n",
      "print df1\n",
      "print df2\n",
      "o = pd.concat([df1, df2], axis=1, ignore_index=True)\n",
      "print o\n",
      "o.to_csv(\"/Users/phoenix/workspace/kaggle/RestaurantRevenuePrediction/t.csv\", index=False)"
     ],
     "language": "python",
     "prompt_number": 125
    },
    {
     "cell_type": "code",
     "metadata": {},
     "outputs": [
      {
       "output_type": "stream",
       "stream": "stdout",
       "text": [
        "0   -0.249877\n",
        "2   -0.130096\n",
        "4    0.123814\n",
        "6    0.791748\n",
        "8    0.958036\n",
        "dtype: float64\n",
        "          0         2         4         6\n",
        "0 -0.476278  0.506316 -0.649294 -2.944033\n",
        "2  1.685865 -1.350373  0.758877 -0.967813\n",
        "4 -1.141978 -0.536841 -0.865710 -0.146665\n",
        "6 -1.327662 -0.490077 -0.018351 -0.297098\n",
        "8 -2.095419 -0.270303 -0.310553 -0.909901\n",
        "           0         2         4\n",
        "0  -0.476278  0.506316 -0.649294\n",
        "2   1.685865 -1.350373  0.758877\n",
        "4  -1.141978 -0.536841 -0.865710\n",
        "6  -1.327662 -0.490077 -0.018351\n",
        "8  -2.095419 -0.270303 -0.310553\n",
        "10 -0.018750  0.726892 -0.382164\n"
       ]
      }
     ],
     "input": [
      "import numpy as np\n",
      "\n",
      "s1 = pd.Series(np.random.randn(5),index=list(range(0,10,2)))\n",
      "print s1.iloc[:]\n",
      "\n",
      "df1 = pd.DataFrame(np.random.randn(6,4),index=list(range(0,12,2)),columns=list(range(0,8,2)))"
     ],
     "language": "python",
     "prompt_number": 30
    },
    {
     "cell_type": "code",
     "metadata": {},
     "outputs": [
      {
       "output_type": "stream",
       "stream": "stdout",
       "text": [
        "941 is not zombie\n"
       ]
      }
     ],
     "input": [
      "import sys\n",
      "import psutil\n",
      "\n",
      "if len(sys.argv) == 0:\n",
      "    print \"Usage: script pid\"\n",
      "    \n",
      "sys.argv[1] = 941\n",
      "    \n",
      "pid = int(sys.argv[1])\n",
      "p = psutil.Process(pid)\n",
      "if p.status == psutil.STATUS_ZOMBIE:\n",
      "    print (\"%s is zombie\" % pid)\n",
      "else:\n",
      "    print (\"%s is not zombie\" % pid)"
     ],
     "language": "python",
     "prompt_number": 10
    },
    {
     "cell_type": "code",
     "metadata": {},
     "outputs": [
      {
       "output_type": "stream",
       "stream": "stdout",
       "text": [
        "Worker: 0\n",
        "Worker: 1\n",
        "Worker: 2\n",
        "Worker: 3\n",
        "Worker: 4\n"
       ]
      }
     ],
     "input": [
      "import multiprocessing\n",
      "\n",
      "def worker(num):\n",
      "    \"\"\"thread worker function\"\"\"\n",
      "    print 'Worker:', num\n",
      "    return\n",
      "\n",
      "def main1():\n",
      "    jobs = []\n",
      "    for i in range(5):\n",
      "        p = multiprocessing.Process(target=worker, args=(i,))\n",
      "        jobs.append(p)\n",
      "        p.start()\n",
      "        \n",
      "main1()"
     ],
     "language": "python",
     "prompt_number": 20
    },
    {
     "cell_type": "code",
     "metadata": {},
     "outputs": [
      {
       "output_type": "stream",
       "stream": "stdout",
       "text": [
        "Process-105 Starting\n",
        "my_service Starting\n",
        "worker 1 Starting\n",
        "worker 1Process-93my_serviceworker 1Process-96my_serviceworker 1Process-99my_serviceworker 1Process-102my_servicemy_serviceProcess-105my_serviceworker 1 Exiting\n",
        " Exiting\n",
        " Exiting\n",
        " Exiting\n",
        " Exiting\n",
        " Exiting\n",
        " Exiting\n",
        " Exiting\n",
        " Exiting\n",
        " Exiting\n",
        " Exiting\n",
        " Exiting\n",
        " Exiting\n",
        " Exiting\n",
        " Exiting\n",
        " Exiting\n"
       ]
      },
      {
       "output_type": "stream",
       "stream": "stdout",
       "text": [
        "Process-108 Starting\n",
        "worker 1 Starting\n"
       ]
      }
     ],
     "input": [
      "import multiprocessing\n",
      "import time\n",
      "\n",
      "def worker():\n",
      "    name = multiprocessing.current_process().name\n",
      "    print name, 'Starting'\n",
      "    time.sleep(2)\n",
      "    print name, 'Exiting'\n",
      "\n",
      "def my_service():\n",
      "    name = multiprocessing.current_process().name\n",
      "    print name, 'Starting'\n",
      "    time.sleep(3)\n",
      "    print name, 'Exiting'\n",
      "\n",
      "if __name__ == '__main__':\n",
      "    service = multiprocessing.Process(name='my_service', target=my_service)\n",
      "    worker_1 = multiprocessing.Process(name='worker 1', target=worker)\n",
      "    worker_2 = multiprocessing.Process(target=worker) # use default name\n",
      "\n",
      "    worker_1.start()\n",
      "    worker_2.start()\n",
      "    service.start()"
     ],
     "language": "python",
     "prompt_number": 41
    },
    {
     "cell_type": "code",
     "metadata": {},
     "outputs": [
      {
       "output_type": "stream",
       "stream": "stdout",
       "text": [
        "1426063570.45\n",
        "10.0029189587"
       ]
      },
      {
       "output_type": "stream",
       "stream": "stdout",
       "text": [
        "\n"
       ]
      }
     ],
     "input": [
      "import time\n",
      "\n",
      "t = time\n",
      "print t"
     ],
     "language": "python",
     "prompt_number": 48
    },
    {
     "cell_type": "code",
     "metadata": {},
     "outputs": [
      {
       "output_type": "stream",
       "stream": "stdout",
       "text": [
        "0\n",
        "1\n",
        "2\n"
       ]
      }
     ],
     "input": [
      "for i in range(3):\n",
      "    print i"
     ],
     "language": "python",
     "prompt_number": 50
    },
    {
     "cell_type": "code",
     "metadata": {},
     "outputs": [
      {
       "output_type": "stream",
       "stream": "stdout",
       "text": [
        "prefix_file_name\n",
        "csv\n",
        "prefix_file_name_3_.csv\n"
       ]
      }
     ],
     "input": [
      "name = \"prefix_file_name.csv\"\n",
      "inputs = name.split(\".\")\n",
      "print inputs[0]\n",
      "print inputs[1]\n",
      "print inputs[0]+\"_3.\"+inputs[1]"
     ],
     "language": "python",
     "prompt_number": 54
    },
    {
     "cell_type": "code",
     "metadata": {},
     "outputs": [
      {
       "output_type": "stream",
       "stream": "stdout",
       "text": [
        "abc2015-03-11 19:43:59\n"
       ]
      }
     ],
     "input": [
      "import time\n",
      "\n",
      "print \"abc\" + time.strftime('%Y-%m-%d %H:%M:%S')"
     ],
     "language": "python",
     "prompt_number": 69
    },
    {
     "cell_type": "code",
     "metadata": {},
     "outputs": [],
     "input": [
      "import json\n",
      "import"
     ],
     "language": "python"
    }
   ]
  }
 ],
 "cells": [],
 "metadata": {
  "name": "",
  "signature": "sha256:c05e98fdeb6b49820f4c3fe53b3146eb22f8d281d51d4dee630b5ad34de4bbb7"
 },
 "nbformat": 3,
 "nbformat_minor": 0
}